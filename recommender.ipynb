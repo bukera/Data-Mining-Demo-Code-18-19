{
 "cells": [
  {
   "cell_type": "code",
   "execution_count": 1,
   "metadata": {
    "slideshow": {
     "slide_type": "slide"
    }
   },
   "outputs": [
    {
     "data": {
      "text/html": [
       "<div>\n",
       "<style scoped>\n",
       "    .dataframe tbody tr th:only-of-type {\n",
       "        vertical-align: middle;\n",
       "    }\n",
       "\n",
       "    .dataframe tbody tr th {\n",
       "        vertical-align: top;\n",
       "    }\n",
       "\n",
       "    .dataframe thead th {\n",
       "        text-align: right;\n",
       "    }\n",
       "</style>\n",
       "<table border=\"1\" class=\"dataframe\">\n",
       "  <thead>\n",
       "    <tr style=\"text-align: right;\">\n",
       "      <th></th>\n",
       "      <th>Lady in the Water</th>\n",
       "      <th>Snakes on a Plane</th>\n",
       "      <th>Just my Luck</th>\n",
       "      <th>Superman Returns</th>\n",
       "      <th>The Night Listener</th>\n",
       "      <th>You, Me and Dupree</th>\n",
       "    </tr>\n",
       "  </thead>\n",
       "  <tbody>\n",
       "    <tr>\n",
       "      <th>Lisa</th>\n",
       "      <td>2.5</td>\n",
       "      <td>3.5</td>\n",
       "      <td>3.0</td>\n",
       "      <td>3.5</td>\n",
       "      <td>3.0</td>\n",
       "      <td>2.5</td>\n",
       "    </tr>\n",
       "    <tr>\n",
       "      <th>Gene</th>\n",
       "      <td>3.0</td>\n",
       "      <td>3.5</td>\n",
       "      <td>1.5</td>\n",
       "      <td>5.0</td>\n",
       "      <td>3.0</td>\n",
       "      <td>3.5</td>\n",
       "    </tr>\n",
       "    <tr>\n",
       "      <th>Mike</th>\n",
       "      <td>2.5</td>\n",
       "      <td>3.0</td>\n",
       "      <td>NaN</td>\n",
       "      <td>3.5</td>\n",
       "      <td>4.0</td>\n",
       "      <td>NaN</td>\n",
       "    </tr>\n",
       "    <tr>\n",
       "      <th>Jane</th>\n",
       "      <td>NaN</td>\n",
       "      <td>3.5</td>\n",
       "      <td>3.0</td>\n",
       "      <td>4.0</td>\n",
       "      <td>4.5</td>\n",
       "      <td>2.5</td>\n",
       "    </tr>\n",
       "    <tr>\n",
       "      <th>Mick</th>\n",
       "      <td>3.0</td>\n",
       "      <td>4.0</td>\n",
       "      <td>2.0</td>\n",
       "      <td>3.0</td>\n",
       "      <td>3.0</td>\n",
       "      <td>2.0</td>\n",
       "    </tr>\n",
       "    <tr>\n",
       "      <th>Jill</th>\n",
       "      <td>3.0</td>\n",
       "      <td>4.0</td>\n",
       "      <td>NaN</td>\n",
       "      <td>5.0</td>\n",
       "      <td>3.0</td>\n",
       "      <td>3.5</td>\n",
       "    </tr>\n",
       "    <tr>\n",
       "      <th>Toby</th>\n",
       "      <td>NaN</td>\n",
       "      <td>4.5</td>\n",
       "      <td>NaN</td>\n",
       "      <td>4.0</td>\n",
       "      <td>NaN</td>\n",
       "      <td>1.0</td>\n",
       "    </tr>\n",
       "  </tbody>\n",
       "</table>\n",
       "</div>"
      ],
      "text/plain": [
       "      Lady in the Water  Snakes on a Plane  Just my Luck  Superman Returns  \\\n",
       "Lisa                2.5                3.5           3.0               3.5   \n",
       "Gene                3.0                3.5           1.5               5.0   \n",
       "Mike                2.5                3.0           NaN               3.5   \n",
       "Jane                NaN                3.5           3.0               4.0   \n",
       "Mick                3.0                4.0           2.0               3.0   \n",
       "Jill                3.0                4.0           NaN               5.0   \n",
       "Toby                NaN                4.5           NaN               4.0   \n",
       "\n",
       "      The Night Listener  You, Me and Dupree  \n",
       "Lisa                 3.0                 2.5  \n",
       "Gene                 3.0                 3.5  \n",
       "Mike                 4.0                 NaN  \n",
       "Jane                 4.5                 2.5  \n",
       "Mick                 3.0                 2.0  \n",
       "Jill                 3.0                 3.5  \n",
       "Toby                 NaN                 1.0  "
      ]
     },
     "execution_count": 1,
     "metadata": {},
     "output_type": "execute_result"
    }
   ],
   "source": [
    "import pandas as pd\n",
    "import numpy as np\n",
    "import matplotlib.pyplot as plt\n",
    "\n",
    "data = {\"Lady in the Water\":np.array([2.5, 3.0, 2.5, 'nan', 3, 3, 'nan'], dtype=np.double), \"Snakes on a Plane\": np.array([3.5, 3.5, 3.0, 3.5, 4, 4, 4.5], dtype=np.double),\n",
    "        \"Just my Luck\": np.array([3.0,1.5,'nan',3,2,'nan','nan'], dtype=np.double),  \"Superman Returns\": np.array([3.5,5,3.5,4.0,3,5,4], dtype=np.double), \n",
    "        \"The Night Listener\": np.array([3,3,4,4.5,3,3,'nan'], dtype=np.double), \"You, Me and Dupree\":np.array([2.5,3.5,'nan',2.5,2.0,3.5,1], dtype=np.double)}\n",
    "users = [\"Lisa\", \"Gene\", \"Mike\", \"Jane\", \"Mick\", \"Jill\", \"Toby\"]\n",
    "films = [\"Lady in the Water\", \"Snakes on a Plane\",\"Just my Luck\",\"Superman Returns\",\"The Night Listener\",\"You, Me and Dupree\"]\n",
    "film_labels = [\"Lady\", \"Snakes\", \"Luck\", \"Superman\", \"Night\", \"Dupree\"]\n",
    "film_dict = dict(zip(films, film_labels))\n",
    "df = pd.DataFrame(data, index = users)\n",
    "df\n"
   ]
  },
  {
   "cell_type": "code",
   "execution_count": 2,
   "metadata": {
    "slideshow": {
     "slide_type": "-"
    }
   },
   "outputs": [],
   "source": [
    "#routine to plot sparse vector points. iterates through vector, if either one or the other are NaN, then does not plot that point. \n",
    "%matplotlib inline\n",
    "def make_mask(x,y, labels):\n",
    "    plot_point=[]\n",
    "    for i in range(len(x)):\n",
    "        if (np.isnan(x[i]) or np.isnan(y[i])):\n",
    "            continue\n",
    "        else:\n",
    "            plot_point.append(labels[i])\n",
    "    return plot_point\n",
    "\n"
   ]
  },
  {
   "cell_type": "markdown",
   "metadata": {
    "slideshow": {
     "slide_type": "slide"
    }
   },
   "source": [
    "# Visualisation of users in film space"
   ]
  },
  {
   "cell_type": "code",
   "execution_count": 3,
   "metadata": {
    "slideshow": {
     "slide_type": "-"
    }
   },
   "outputs": [
    {
     "data": {
      "image/png": "[encoded data removed]",
      "text/plain": [
       "<Figure size 432x288 with 1 Axes>"
      ]
     },
     "metadata": {
      "needs_background": "light"
     },
     "output_type": "display_data"
    }
   ],
   "source": [
    "x = \"Just my Luck\"\n",
    "y = \"Superman Returns\"\n",
    "plot_mask = make_mask(df[x],df[y], users ) #selects films rated by both users\n", 
    "x_vals = df[x].loc[plot_mask]\n",
    "y_vals = df[y].loc[plot_mask]\n",
    "fig, ax = plt.subplots()\n",
    "ax.plot(x_vals,y_vals, 'b.')\n",
    "plt.grid()\n",
    "plt.axis([0,5.5,0,5.5])\n",
    "plt.xlabel(x)\n",
    "plt.ylabel(y)\n",
    "for user in plot_mask:\n",
    "    ax.annotate(user, (x_vals[user], y_vals[user]))"
   ]
  },
  {
   "cell_type": "markdown",
   "metadata": {
    "slideshow": {
     "slide_type": "slide"
    }
   },
   "source": [
    "# Plotting correlations between users using pearson similarity"
   ]
  },
  {
   "cell_type": "code",
   "execution_count": 4,
   "metadata": {},
   "outputs": [],
   "source": [
    "def abline(slope, intercept):\n",
    "    \"\"\"Plot a line from slope and intercept\"\"\"\n",
    "    axes = plt.gca()\n",
    "    x_vals = np.array(axes.get_xlim())\n",
    "    y_vals = intercept + slope * x_vals\n",
    "    plt.plot(x_vals, y_vals, '--')\n",
    "    \n",
    "def pearson(x, y):\n",
    "    x_bar =  np.mean(x)\n",
    "    y_bar = np.mean(y)\n",
    "    top = np.dot( (x-x_bar), (y-y_bar) )\n",
    "    bottom = np.sqrt( sum((x - x_bar)**2) * sum((y - y_bar)**2) )\n",
    "    return top/bottom"
   ]
  },
  {
   "cell_type": "code",
   "execution_count": 5,
   "metadata": {
    "slideshow": {
     "slide_type": "slide"
    }
   },
   "outputs": [
    {
     "name": "stdout",
     "output_type": "stream",
     "text": [
      "Pearson Correlation =  0.8934051474415644\n"
     ]
    },
    {
     "data": {
      "image/png": "[encoded data removed]",
      "text/plain": [
       "<Figure size 432x288 with 1 Axes>"
      ]
     },
     "metadata": {
      "needs_background": "light"
     },
     "output_type": "display_data"
    }
   ],
   "source": [
    "x = \"Toby\"\n",
    "y = \"Jane\"\n",
    "film_mask = make_mask(df.loc[x], df.loc[y], films)\n",
    "x_vals = df[film_mask].loc[x]\n",
    "y_vals = df[film_mask].loc[y]\n",
    "fig, ax = plt.subplots()\n",
    "ax.plot(x_vals,y_vals, 'b.')\n",
    "plt.grid()\n",
    "plt.axis([0,5.5,0,5.5])\n",
    "plt.xlabel(x)\n",
    "plt.ylabel(y)\n",
    "for film in film_mask:\n",
    "    ax.annotate(film_dict[film], (x_vals[film], y_vals[film]))\n",
    "p = pearson(x_vals, y_vals)\n",
    "print(\"Pearson Correlation = \", p)\n",
    "coeff = np.polyfit(x_vals,y_vals,1)\n",
    "abline(coeff[0], coeff[1])"
   ]
  },
  {
   "cell_type": "markdown",
   "metadata": {
    "slideshow": {
     "slide_type": "slide"
    }
   },
   "source": [
    "# Ranking users by similarity"
   ]
  },
  {
   "cell_type": "code",
   "execution_count": 6,
   "metadata": {
    "slideshow": {
     "slide_type": "-"
    }
   },
   "outputs": [],
   "source": [
    "import numpy.linalg as la\n",
    "def euclid_dist(x, y):\n",
    "    tot = 0\n",
    "    for i in range(len(x)):\n",
    "        diff = (x[i] - y[i])**2\n",
    "        tot +=diff\n",
    "    return np.sqrt(tot)\n",
    "\n",
    "def euclid_sim(x,y):\n",
    "    dist = euclid_dist(x,y)\n",
    "    return 1/(1+dist)\n",
    "\n",
    "def cos_sim(x,y):\n",
    "    sim = np.dot(x,y)/(np.sqrt(sum(x**2))*np.sqrt(sum(y**2)))\n",
    "    return sim\n",
    "\n",
    "def rank(user1, df, sim=pearson, n = None, print_out=True):\n",
    "    users = list(df.index)\n",
    "    if not n:\n",
    "        n = len(users)-1\n",
    "    us = users.copy()\n",
    "    us.remove(user1)\n",
    "    similarities=[]\n",
    "    fs = list(df.columns)\n",
    "    \n",
    "    for user2 in us:\n",
    "        film_mask = make_mask(df.loc[user1], df.loc[user2], fs)\n",
    "        x_vals = df[film_mask].loc[user1]\n",
    "        y_vals = df[film_mask].loc[user2]\n",
    "        s = sim(x_vals, y_vals)\n",
    "        similarities.append(s)\n",
    "        \n",
    "    sim_dict = dict(zip(us, similarities))\n",
    "    top_match = []\n",
    "    if print_out:\n",
    "        print(\"Top %d closest to %s \\n\" % (n, user1))\n",
    "    for key, value in sorted(sim_dict.items(), key=lambda item: (item[1], item[0]), reverse=True):\n",
    "        top_match.append(((key), value))\n",
    "        if print_out:\n",
    "            print(key, value)\n",
    "    if print_out:\n",
    "        print(\"\\n\")\n",
    "    return top_match\n"
   ]
  },
  {
   "cell_type": "code",
   "execution_count": 7,
   "metadata": {
    "slideshow": {
     "slide_type": "slide"
    }
   },
   "outputs": [
    {
     "name": "stdout",
     "output_type": "stream",
     "text": [
      "Using cosine similarity metric \n",
      "\n",
      "Top 6 closest to Lisa \n",
      "\n",
      "Jill 0.9912758269345802\n",
      "Jane 0.986586764527925\n",
      "Mike 0.9859858031677182\n",
      "Mick 0.9818313856641693\n",
      "Gene 0.9606463013980241\n",
      "Toby 0.9528927449621697\n",
      "\n",
      "\n",
      "Using Pearson similarity metric \n",
      "\n",
      "Top 6 closest to Lisa \n",
      "\n",
      "Toby 0.9912407071619304\n",
      "Jill 0.747017880833996\n",
      "Mick 0.5940885257860046\n",
      "Jane 0.5669467095138409\n",
      "Mike 0.40451991747794525\n",
      "Gene 0.39605901719066977\n",
      "\n",
      "\n"
     ]
    }
   ],
   "source": [
    "u1 = \"Lisa\"\n",
    "print(\"Using cosine similarity metric \\n\")\n",
    "top_matches = rank(u1, df, sim=cos_sim) \n",
    "\n",
    "print(\"Using Pearson similarity metric \\n\")\n",
    "top_matches = rank(u1,  df)  "
   ]
  },
  {
   "cell_type": "markdown",
   "metadata": {
    "slideshow": {
     "slide_type": "slide"
    }
   },
   "source": [
    "# Item - Item Similarity"
   ]
  },
  {
   "cell_type": "code",
   "execution_count": 8,
   "metadata": {},
   "outputs": [
    {
     "name": "stdout",
     "output_type": "stream",
     "text": [
      "Top 5 closest to Superman Returns \n",
      "\n",
      "You, Me and Dupree 0.657951694959769\n",
      "Lady in the Water 0.48795003647426655\n",
      "Snakes on a Plane 0.1118033988749895\n",
      "The Night Listener -0.1798471947990542\n",
      "Just my Luck -0.42289003161103106\n",
      "\n",
      "\n"
     ]
    },
    {
     "data": {
      "text/plain": [
       "[('You, Me and Dupree', 0.657951694959769),\n",
       " ('Lady in the Water', 0.48795003647426655),\n",
       " ('Snakes on a Plane', 0.1118033988749895),\n",
       " ('The Night Listener', -0.1798471947990542),\n",
       " ('Just my Luck', -0.42289003161103106)]"
      ]
     },
     "execution_count": 8,
     "metadata": {},
     "output_type": "execute_result"
    }
   ],
   "source": [
    "rank(\"Superman Returns\", df.T)"
   ]
  },
  {
   "cell_type": "markdown",
   "metadata": {
    "slideshow": {
     "slide_type": "slide"
    }
   },
   "source": [
    "# Precomputing Item Similarity"
   ]
  },
  {
   "cell_type": "code",
   "execution_count": 9,
   "metadata": {
    "slideshow": {
     "slide_type": "-"
    }
   },
   "outputs": [],
   "source": [
    "def calc_similar_items(df, similarity=pearson, n = 2):\n",
    "    t_df = df.T\n",
    "    items = list(t_df.index)\n",
    "    ret={}\n",
    "    for item in items:\n",
    "        r = rank(item, t_df, sim=similarity, print_out=False)\n",
    "        ret[item] = r[:n]\n",
    "    return ret"
   ]
  },
  {
   "cell_type": "code",
   "execution_count": 10,
   "metadata": {},
   "outputs": [
    {
     "data": {
      "text/plain": [
       "{'Lady in the Water': [('Snakes on a Plane', 0.7637626158259732),\n",
       "  ('Superman Returns', 0.48795003647426655)],\n",
       " 'Snakes on a Plane': [('Lady in the Water', 0.7637626158259732),\n",
       "  ('Superman Returns', 0.1118033988749895)],\n",
       " 'Just my Luck': [('The Night Listener', 0.5555555555555556),\n",
       "  ('Snakes on a Plane', -0.3333333333333333)],\n",
       " 'Superman Returns': [('You, Me and Dupree', 0.657951694959769),\n",
       "  ('Lady in the Water', 0.48795003647426655)],\n",
       " 'The Night Listener': [('Just my Luck', 0.5555555555555556),\n",
       "  ('Superman Returns', -0.1798471947990542)],\n",
       " 'You, Me and Dupree': [('Superman Returns', 0.657951694959769),\n",
       "  ('Lady in the Water', 0.3333333333333333)]}"
      ]
     },
     "execution_count": 10,
     "metadata": {},
     "output_type": "execute_result"
    }
   ],
   "source": [
    "calc_similar_items(df)"
   ]
  },
  {
   "cell_type": "markdown",
   "metadata": {
    "slideshow": {
     "slide_type": "slide"
    }
   },
   "source": [
    "# Item - based recommendation"
   ]
  },
  {
   "cell_type": "code",
   "execution_count": 11,
   "metadata": {
    "slideshow": {
     "slide_type": "-"
    }
   },
   "outputs": [],
   "source": [
    "def get_recommended_items(user, df, similarity = pearson, limit=6):\n",
    "    films = df.columns\n",
    "    sim_dict = calc_similar_items(df, similarity=similarity, n=6)\n",
    "    rate_dict={}\n",
    "    for film in df.columns:\n",
    "        if np.isnan(df[film].loc[user]):\n",
    "            sim_sum = 0\n",
    "            rate_sim_sum = 0\n",
    "            for sim_film in sim_dict[film]:\n",
    "                if not np.isnan(df[sim_film[0]].loc[user]):\n",
    "                    sim = sim_film[1]\n",
    "                    rate = df[sim_film[0]].loc[user]\n",
    "                    rate_sim_sum += sim*rate\n",
    "                    sim_sum += sim\n",
    "            est_rating = rate_sim_sum/sim_sum\n",
    "            rate_dict[est_rating] = film\n",
    "    rates = list(rate_dict.keys())\n",
    "    if limit>len(rates):\n",
    "        limit=len(rates)\n",
    "    rates.sort(reverse=True)\n",
    "    rates = rates[:limit]\n",
    "    for rate in rates:\n",
    "        print(rate_dict[rate], \"%0.2f\" %rate)\n",
    "\n"
   ]
  },
  {
   "cell_type": "code",
   "execution_count": 12,
   "metadata": {
    "slideshow": {
     "slide_type": "slide"
    }
   },
   "outputs": [
    {
     "name": "stdout",
     "output_type": "stream",
     "text": [
      "The Night Listener 3.17\n",
      "Just my Luck 2.94\n",
      "Lady in the Water 2.87\n"
     ]
    }
   ],
   "source": [
    "get_recommended_items(\"Toby\", df, similarity=euclid_sim) "
   ]
  },
  {
   "cell_type": "code",
   "execution_count": 13,
   "metadata": {
    "slideshow": {
     "slide_type": "-"
    }
   },
   "outputs": [
    {
     "name": "stdout",
     "output_type": "stream",
     "text": [
      "Lady in the Water 3.61\n",
      "The Night Listener 3.53\n",
      "Just my Luck 2.96\n"
     ]
    }
   ],
   "source": [
    "get_recommended_items(\"Toby\", df, similarity=pearson) "
   ]
  },
  {
   "cell_type": "code",
   "execution_count": 14,
   "metadata": {},
   "outputs": [
    {
     "name": "stdout",
     "output_type": "stream",
     "text": [
      "Just my Luck 3.19\n",
      "The Night Listener 3.18\n",
      "Lady in the Water 3.18\n"
     ]
    }
   ],
   "source": [
    "get_recommended_items(\"Toby\", df, similarity=cos_sim) "
   ]
  },
  {
   "cell_type": "code",
   "execution_count": 15,
   "metadata": {},
   "outputs": [],
   "source": [
    "def rating(user, item, df, similarity_metric=pearson):\n",
    "    users = list(df.index)\n",
    "    top_matches = rank(user, df, sim=similarity_metric, print_out=False)\n",
    "    weight_sum = 0\n",
    "    sim_tot=0\n",
    "    for user2, similarity in top_matches:\n",
    "        if similarity < 0:\n",
    "            continue\n",
    "        if np.isnan(df[item].loc[user2]):\n",
    "            continue\n",
    "        weight_sum += similarity * df[item].loc[user2]\n",
    "        sim_tot += np.abs(similarity)\n",
    "    return weight_sum/sim_tot\n",
    "\n",
    "def get_recommendation(user, df, limit=3):\n",
    "    films = df.columns\n",
    "    rate_dict = {}\n",
    "    for film in df.columns:\n",
    "        if np.isnan(df[film].loc[user]):\n",
    "            rate = rating(user, film, df)\n",
    "            rate_dict[rate] = film\n",
    "    rates = list(rate_dict.keys())\n",
    "    if limit>len(rates):\n",
    "        limit=len(rates)\n",
    "    rates.sort(reverse=True)\n",
    "    rates = rates[:limit]\n",
    "    for rate in rates:\n",
    "        print(rate_dict[rate], \"%0.2f\" %rate)"
   ]
  },
  {
   "cell_type": "code",
   "execution_count": 17,
   "metadata": {},
   "outputs": [
    {
     "name": "stdout",
     "output_type": "stream",
     "text": [
      "The Night Listener 3.35\n",
      "Lady in the Water 2.83\n",
      "Just my Luck 2.53\n"
     ]
    }
   ],
   "source": [
    "get_recommendation(\"Toby\", df)"
   ]
  },
  {
   "cell_type": "code",
   "execution_count": null,
   "metadata": {},
   "outputs": [],
   "source": []
  },
  {
   "cell_type": "code",
   "execution_count": null,
   "metadata": {},
   "outputs": [],
   "source": []
  }
 ],
 "metadata": {
  "celltoolbar": "Slideshow",
  "kernelspec": {
   "display_name": "Python 3",
   "language": "python",
   "name": "python3"
  },
  "language_info": {
   "codemirror_mode": {
    "name": "ipython",
    "version": 3
   },
   "file_extension": ".py",
   "mimetype": "text/x-python",
   "name": "python",
   "nbconvert_exporter": "python",
   "pygments_lexer": "ipython3",
   "version": "3.7.1"
  }
 },
 "nbformat": 4,
 "nbformat_minor": 2
}
